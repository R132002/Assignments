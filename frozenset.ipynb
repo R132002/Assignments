{
  "nbformat": 4,
  "nbformat_minor": 0,
  "metadata": {
    "colab": {
      "provenance": []
    },
    "kernelspec": {
      "name": "python3",
      "display_name": "Python 3"
    },
    "language_info": {
      "name": "python"
    }
  },
  "cells": [
    {
      "cell_type": "code",
      "execution_count": 4,
      "metadata": {
        "colab": {
          "base_uri": "https://localhost:8080/"
        },
        "id": "R-m81eCcUiut",
        "outputId": "24e31613-70a3-4068-a3b7-90daceb7b573"
      },
      "outputs": [
        {
          "output_type": "stream",
          "name": "stdout",
          "text": [
            "frozenset Object is :  frozenset({'PQR', 'Hello'})\n"
          ]
        }
      ],
      "source": [
        "#frozenset in list\n",
        "\n",
        "l = [\"PQR\", \"Hello\", \"PQR\"]\n",
        "\n",
        "# converting tuple to frozenset\n",
        "fnum = frozenset(l)\n",
        "\n",
        "# printing empty frozenset object\n",
        "print(\"frozenset Object is : \", fnum)"
      ]
    },
    {
      "cell_type": "code",
      "source": [
        "#frozenset in dictonery\n",
        "\n",
        "# creating a dictionary\n",
        "Student = {\"name\": \"Rose\", \"age\": 20, \"sex\": \"female\",\n",
        "\t\t\"college\": \"GPM\", \"address\": \"Mumbai\"}\n",
        "\n",
        "# making keys of dictionary as frozenset\n",
        "key = frozenset(Student)\n",
        "\n",
        "# printing dict keys as frozenset\n",
        "print('The frozen set is:', key)\n"
      ],
      "metadata": {
        "colab": {
          "base_uri": "https://localhost:8080/"
        },
        "id": "IR2y66deVMIz",
        "outputId": "f447a9d9-4931-4383-a41b-a74adbcc8cd2"
      },
      "execution_count": 9,
      "outputs": [
        {
          "output_type": "stream",
          "name": "stdout",
          "text": [
            "The frozen set is: frozenset({'age', 'college', 'sex', 'name', 'address'})\n"
          ]
        }
      ]
    },
    {
      "cell_type": "markdown",
      "source": [],
      "metadata": {
        "id": "5y-wztBKVIVQ"
      }
    },
    {
      "cell_type": "code",
      "source": [],
      "metadata": {
        "id": "qMzK6jg2VI5D"
      },
      "execution_count": null,
      "outputs": []
    }
  ]
}