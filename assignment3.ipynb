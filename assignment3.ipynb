{
  "nbformat": 4,
  "nbformat_minor": 0,
  "metadata": {
    "colab": {
      "provenance": [],
      "collapsed_sections": []
    },
    "kernelspec": {
      "name": "python3",
      "display_name": "Python 3"
    },
    "language_info": {
      "name": "python"
    }
  },
  "cells": [
    {
      "cell_type": "code",
      "execution_count": 30,
      "metadata": {
        "colab": {
          "base_uri": "https://localhost:8080/"
        },
        "id": "XHtC8aJ_QY1X",
        "outputId": "773016dd-6cda-4d15-83a1-0ac4d46f7fb2"
      },
      "outputs": [
        {
          "name": "stdout",
          "output_type": "stream",
          "text": [
            "Enter the 1st number: 8\n",
            "Enter the 2nd number: 4\n",
            "1. Addition 2. Subtraction 3. Division 4. Multiplication\n",
            "Enter your choice: 3\n"
          ]
        }
      ],
      "source": [
        "#calculator \n",
        "\n",
        "n1= int(input(\"Enter the 1st number: \"))\n",
        "n2= int(input(\"Enter the 2nd number: \"))\n",
        "\n",
        "print(\"1. Addition 2. Subtraction 3. Division 4. Multiplication\")\n",
        "a= int(input(\"Enter your choice: \"))\n",
        "\n",
        "\n",
        "def add(n1,n2):\n",
        "  with open(\"calculator.txt\",\"a\")as f:\n",
        "    f.write(f\"\\n Addition of {n1} and {n2} is {n1+n2}\")\n",
        "\n",
        "def sub(n1,n2):\n",
        "  with open(\"calculator.txt\",\"a\")as f:\n",
        "    f.write(f\"\\n Subtraction of {n1} and {n2} is {n1-n2}\")\n",
        "\n",
        "def div(n1,n2):\n",
        "  with open(\"calculator.txt\",\"a\")as f:\n",
        "    f.write(f\"\\n Division of {n1} and {n2} is {n1/n2}\")\n",
        "\n",
        "def mul(n1,n2):\n",
        "  with open(\"calculator.txt\",\"a\")as f:\n",
        "    f.write(f\"\\n Multiplication of {n1} and {n2} is {n1*n2}\")\n",
        "\n",
        "if a==1:\n",
        "  add(n1,n2)\n",
        "\n",
        "elif a==2:\n",
        "  sub(n1,n2)\n",
        "\n",
        "elif a==3:\n",
        "  div(n1,n2)\n",
        "\n",
        "elif a==4:\n",
        "  mul(n1,n2)\n",
        "\n",
        "else:\n",
        "    print(\"Please enter valid number\")\n",
        "    choice = input(\"\\nDo you want to continue(y/n):\")"
      ]
    },
    {
      "cell_type": "code",
      "source": [
        "#r+ throws an error if the file does not exist or opens an existing file without truncating it for reading and writing\n",
        "\n",
        "with open('file1.txt','r+') as fd:\n",
        "    print(fd.read())\n",
        "    \n",
        "    #with open('file1.txt','r+') as fd:\n",
        "      #fd.write(\"Wrote text using r+\")\n"
      ],
      "metadata": {
        "colab": {
          "base_uri": "https://localhost:8080/"
        },
        "id": "24M3xnR3g89s",
        "outputId": "2100416d-022a-49b6-d58c-6037c0ed86f2"
      },
      "execution_count": 43,
      "outputs": [
        {
          "output_type": "stream",
          "name": "stdout",
          "text": [
            "Hello everyone\n"
          ]
        }
      ]
    },
    {
      "cell_type": "code",
      "source": [
        "#w+ creates a new file or truncates an existing file , then opens it for reading and writing.\n",
        "\n",
        "with open('file2.txt','w+') as fd:\n",
        "    fd.write(\"Hi world\")\n",
        "\n",
        "    with open('file2.txt','r+') as fd:\n",
        "      print(fd.read())\n"
      ],
      "metadata": {
        "colab": {
          "base_uri": "https://localhost:8080/"
        },
        "id": "qnrIdJ1AiYJu",
        "outputId": "8e7588c9-03da-412d-89ab-1015c0bbd253"
      },
      "execution_count": 57,
      "outputs": [
        {
          "output_type": "stream",
          "name": "stdout",
          "text": [
            "\n"
          ]
        }
      ]
    },
    {
      "cell_type": "code",
      "source": [
        "#a+ creates a new file or opens an existing file for reading and writing\n",
        "\n",
        "f1= open(\"file3.txt\",\"a+\")\n",
        "f1.write(\"This is an example\")\n"
      ],
      "metadata": {
        "colab": {
          "base_uri": "https://localhost:8080/"
        },
        "id": "2kezEnSPif0C",
        "outputId": "fbbc715c-a1e0-4224-ab14-a49d9d3aec90"
      },
      "execution_count": 58,
      "outputs": [
        {
          "output_type": "execute_result",
          "data": {
            "text/plain": [
              "18"
            ]
          },
          "metadata": {},
          "execution_count": 58
        }
      ]
    }
  ]
}