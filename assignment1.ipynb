{
  "nbformat": 4,
  "nbformat_minor": 0,
  "metadata": {
    "colab": {
      "provenance": [],
      "collapsed_sections": []
    },
    "kernelspec": {
      "name": "python3",
      "display_name": "Python 3"
    },
    "language_info": {
      "name": "python"
    }
  },
  "cells": [
    {
      "cell_type": "code",
      "execution_count": 1,
      "metadata": {
        "colab": {
          "base_uri": "https://localhost:8080/"
        },
        "id": "AU7i0DC6Akt_",
        "outputId": "9f5b6383-5a01-4aea-fd27-a98526bc04b0"
      },
      "outputs": [
        {
          "output_type": "stream",
          "name": "stdout",
          "text": [
            "Hello world\n"
          ]
        }
      ],
      "source": [
        "#display message in python\n",
        "print(\"Hello world\")"
      ]
    },
    {
      "cell_type": "markdown",
      "source": [],
      "metadata": {
        "id": "BISRaL5gAqk9"
      }
    },
    {
      "cell_type": "code",
      "source": [
        "#input in python\n",
        "name = input(\"Enter you name :\")\n",
        "print(\"My name is\",name)\n"
      ],
      "metadata": {
        "colab": {
          "base_uri": "https://localhost:8080/"
        },
        "id": "qeii0TLVArUQ",
        "outputId": "2d88a863-5eca-4c16-9acb-6df538f9a179"
      },
      "execution_count": 4,
      "outputs": [
        {
          "output_type": "stream",
          "name": "stdout",
          "text": [
            "Enter you name :Riddhi\n",
            "My name is Riddhi\n"
          ]
        }
      ]
    },
    {
      "cell_type": "code",
      "source": [
        "#Datatypes in python\n",
        "\n",
        "#String\n",
        "str =\"Hello world \"\n",
        "print(str)\n",
        "print(str[1:4])\n",
        "print(str.upper())\n",
        "print(str+'everyone')\n",
        "print(str[-3])\n",
        "print(str*2)\n",
        "print(str.lower())\n",
        "\n"
      ],
      "metadata": {
        "colab": {
          "base_uri": "https://localhost:8080/"
        },
        "id": "QxIA07sUBrLr",
        "outputId": "baed306f-5ec1-4631-c43f-43a99d2b9228"
      },
      "execution_count": 8,
      "outputs": [
        {
          "output_type": "stream",
          "name": "stdout",
          "text": [
            "Hello world \n",
            "ell\n",
            "HELLO WORLD \n",
            "Hello world everyone\n",
            "l\n",
            "Hello world Hello world \n",
            "hello world \n"
          ]
        }
      ]
    },
    {
      "cell_type": "code",
      "source": [
        "#number\n",
        "\n",
        "n1=12\n",
        "n2=10\n",
        "n3=1.1\n",
        "print(type(n3))\n",
        "print(n1)\n",
        "print(n2)\n",
        "print(n1+n2)"
      ],
      "metadata": {
        "colab": {
          "base_uri": "https://localhost:8080/"
        },
        "id": "aE9VEQeyHTuR",
        "outputId": "4db729b0-d0a0-40b2-b193-8f620c65632a"
      },
      "execution_count": 9,
      "outputs": [
        {
          "output_type": "stream",
          "name": "stdout",
          "text": [
            "<class 'float'>\n",
            "12\n",
            "10\n",
            "22\n"
          ]
        }
      ]
    },
    {
      "cell_type": "code",
      "source": [
        "#tuples\n",
        "\n",
        "tuple1=(11,22,33,44,55)\n",
        "tuple2=(\"A\",\"B\",\"C\",\"D\")\n",
        "print(tuple1[2])\n",
        "print(tuple2[1])\n",
        "print(tuple1[1:4])"
      ],
      "metadata": {
        "colab": {
          "base_uri": "https://localhost:8080/"
        },
        "id": "LEIr7EhbHp6a",
        "outputId": "8ce10ee3-4148-4580-abab-cd9a4192650a"
      },
      "execution_count": 14,
      "outputs": [
        {
          "output_type": "stream",
          "name": "stdout",
          "text": [
            "33\n",
            "B\n",
            "(22, 33, 44)\n"
          ]
        }
      ]
    },
    {
      "cell_type": "code",
      "source": [
        "#list\n",
        "\n",
        "list1=[11,22,33,44,55]\n",
        "list2=[\"A\",\"B\",\"C\",\"D\"]\n",
        "list3=[\"ABC\",20,\"DEF\",\"GHI\"]\n",
        "print(\"List of elements are :\")\n",
        "print(list3)\n",
        "\n",
        "#append\n",
        "list1.append(66)\n",
        "print(list1)\n",
        "\n",
        "#slice\n",
        "print(list2[1:3])\n",
        "\n",
        "#update\n",
        "list3[1]= 10\n",
        "print(list3)\n",
        "\n",
        "#delete\n",
        "del list1[3]\n",
        "print (list1)\n",
        "list2.remove(\"C\")\n",
        "print(list2)\n"
      ],
      "metadata": {
        "colab": {
          "base_uri": "https://localhost:8080/"
        },
        "id": "do8BoS0gJQuS",
        "outputId": "ea31b551-7db9-41c4-ed2c-179edc22622f"
      },
      "execution_count": 21,
      "outputs": [
        {
          "output_type": "stream",
          "name": "stdout",
          "text": [
            "List of elements are :\n",
            "['ABC', 20, 'DEF', 'GHI']\n",
            "[11, 22, 33, 44, 55, 66]\n",
            "['B', 'C']\n",
            "['ABC', 10, 'DEF', 'GHI']\n",
            "[11, 22, 33, 55, 66]\n",
            "['A', 'B', 'D']\n"
          ]
        }
      ]
    },
    {
      "cell_type": "code",
      "source": [
        "#dictionary\n",
        "\n",
        "dict1 = {1: \"ABC\", 2: \"PQR\",3:\"XYZ\"}\n",
        "print(dict1)\n",
        "print(\"All keys: \",dict1.keys())\n",
        "print(\"All values: \",dict1.values())\n",
        "\n",
        "dict1.pop(1)\n",
        "print(dict1)\n",
        "\n",
        "dict1[2]=\"see\"\n",
        "print(dict1)\n",
        "\n",
        "del dict1[0]\n",
        "print(dict1)\n"
      ],
      "metadata": {
        "colab": {
          "base_uri": "https://localhost:8080/",
          "height": 304
        },
        "id": "ZdLcNcyrMDrJ",
        "outputId": "7f396dee-6b7d-4ed2-d40f-953f82615f4c"
      },
      "execution_count": 26,
      "outputs": [
        {
          "output_type": "stream",
          "name": "stdout",
          "text": [
            "{1: 'ABC', 2: 'PQR', 3: 'XYZ'}\n",
            "All keys:  dict_keys([1, 2, 3])\n",
            "All values:  dict_values(['ABC', 'PQR', 'XYZ'])\n",
            "{2: 'PQR', 3: 'XYZ'}\n",
            "{2: 'see', 3: 'XYZ'}\n"
          ]
        },
        {
          "output_type": "error",
          "ename": "KeyError",
          "evalue": "ignored",
          "traceback": [
            "\u001b[0;31m---------------------------------------------------------------------------\u001b[0m",
            "\u001b[0;31mKeyError\u001b[0m                                  Traceback (most recent call last)",
            "\u001b[0;32m<ipython-input-26-d9b723c0b4eb>\u001b[0m in \u001b[0;36m<module>\u001b[0;34m\u001b[0m\n\u001b[1;32m     12\u001b[0m \u001b[0mprint\u001b[0m\u001b[0;34m(\u001b[0m\u001b[0mdict1\u001b[0m\u001b[0;34m)\u001b[0m\u001b[0;34m\u001b[0m\u001b[0;34m\u001b[0m\u001b[0m\n\u001b[1;32m     13\u001b[0m \u001b[0;34m\u001b[0m\u001b[0m\n\u001b[0;32m---> 14\u001b[0;31m \u001b[0;32mdel\u001b[0m \u001b[0mdict1\u001b[0m\u001b[0;34m[\u001b[0m\u001b[0;36m0\u001b[0m\u001b[0;34m]\u001b[0m\u001b[0;34m\u001b[0m\u001b[0;34m\u001b[0m\u001b[0m\n\u001b[0m\u001b[1;32m     15\u001b[0m \u001b[0mprint\u001b[0m\u001b[0;34m(\u001b[0m\u001b[0mdict1\u001b[0m\u001b[0;34m)\u001b[0m\u001b[0;34m\u001b[0m\u001b[0;34m\u001b[0m\u001b[0m\n",
            "\u001b[0;31mKeyError\u001b[0m: 0"
          ]
        }
      ]
    },
    {
      "cell_type": "code",
      "source": [
        "#set\n",
        "\n",
        "set1= {11,22,33,44,55}\n",
        "set2= {\"hello\",12,44,55,\"world\",(1,2,3,4)}\n",
        "set3={13,45,66,778,98}\n",
        "\n",
        "set1.discard(44)\n",
        "print(set1)\n",
        "\n",
        "set2.remove(\"hello\")\n",
        "print (set2)\n",
        "\n",
        "set4= set1|set3\n",
        "print(set4)\n",
        "\n",
        "set5= set1-set3\n",
        "print(set5)\n",
        "\n",
        "set6= set2.intersection(set1)\n",
        "print(set6)"
      ],
      "metadata": {
        "colab": {
          "base_uri": "https://localhost:8080/"
        },
        "id": "_tXV6SsnOwb9",
        "outputId": "a30c3371-51dc-422d-98fb-5de4a2118249"
      },
      "execution_count": 33,
      "outputs": [
        {
          "output_type": "stream",
          "name": "stdout",
          "text": [
            "{33, 11, 22, 55}\n",
            "{'world', (1, 2, 3, 4), 12, 44, 55}\n",
            "{33, 66, 98, 778, 11, 45, 13, 22, 55}\n",
            "{33, 11, 22, 55}\n",
            "{55}\n"
          ]
        }
      ]
    },
    {
      "cell_type": "code",
      "source": [],
      "metadata": {
        "id": "_w1GKsA0MUhe"
      },
      "execution_count": null,
      "outputs": []
    }
  ]
}